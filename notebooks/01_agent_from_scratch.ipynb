{
 "cells": [
  {
   "cell_type": "markdown",
   "id": "9690ac72-5d95-4cbf-875a-ae0e835593c9",
   "metadata": {},
   "source": [
    "# Lesson 1: Simple ReAct Travel Agent from Scratch"
   ]
  },
  {
   "cell_type": "code",
   "execution_count": null,
   "id": "83588e70-254f-4f83-a510-c8ae81e729b0",
   "metadata": {
    "height": 30
   },
   "outputs": [],
   "source": [
    "# based on https://til.simonwillison.net/llms/python-react-pattern"
   ]
  },
  {
   "cell_type": "code",
   "execution_count": 1,
   "id": "6cb3ef4c-58b3-401b-b104-0d51e553d982",
   "metadata": {
    "height": 149
   },
   "outputs": [],
   "source": [
    "import openai\n",
    "import re\n",
    "import httpx\n",
    "import os\n",
    "from dotenv import load_dotenv\n",
    "\n",
    "_ = load_dotenv()\n",
    "from openai import OpenAI"
   ]
  },
  {
   "cell_type": "code",
   "execution_count": 2,
   "id": "dc3293b7-a50c-43c8-a022-8975e1e444b8",
   "metadata": {
    "height": 30
   },
   "outputs": [],
   "source": [
    "client = OpenAI()"
   ]
  },
  {
   "cell_type": "code",
   "execution_count": 3,
   "id": "0722c3d4-4cbf-43bf-81b0-50f634c4ce61",
   "metadata": {
    "height": 81
   },
   "outputs": [],
   "source": [
    "chat_completion = client.chat.completions.create(\n",
    "    model=\"gpt-3.5-turbo\",\n",
    "    messages=[{\"role\": \"user\", \"content\": \"Hello world\"}]\n",
    ")"
   ]
  },
  {
   "cell_type": "code",
   "execution_count": 4,
   "id": "6b2f82fe-3ec4-4917-be51-9fb10d1317fa",
   "metadata": {
    "height": 30
   },
   "outputs": [
    {
     "data": {
      "text/plain": [
       "'Hello! How can I assist you today?'"
      ]
     },
     "execution_count": 4,
     "metadata": {},
     "output_type": "execute_result"
    }
   ],
   "source": [
    "chat_completion.choices[0].message.content"
   ]
  },
  {
   "cell_type": "code",
   "execution_count": 5,
   "id": "ee0fe1c7-77e2-499c-a2f9-1f739bb6ddf0",
   "metadata": {
    "height": 387
   },
   "outputs": [],
   "source": [
    "class Agent:\n",
    "    def __init__(self, system=\"\"):\n",
    "        self.system = system\n",
    "        self.messages = []\n",
    "        if self.system:\n",
    "            self.messages.append({\"role\": \"system\", \"content\": system})\n",
    "\n",
    "    def __call__(self, message):\n",
    "        self.messages.append({\"role\": \"user\", \"content\": message})\n",
    "        result = self.execute()\n",
    "        self.messages.append({\"role\": \"assistant\", \"content\": result})\n",
    "        return result\n",
    "\n",
    "    def execute(self):\n",
    "        completion = client.chat.completions.create(\n",
    "                        model=\"gpt-4o\", \n",
    "                        temperature=0,\n",
    "                        messages=self.messages)\n",
    "        return completion.choices[0].message.content\n",
    "    "
   ]
  },
  {
   "cell_type": "code",
   "execution_count": 6,
   "id": "98f303b1-a4d0-408c-8cc0-515ff980717f",
   "metadata": {
    "height": 557
   },
   "outputs": [],
   "source": [
    "prompt = \"\"\"\n",
    "You are a helpful travel assistant that runs in a loop of Thought, Action, PAUSE, Observation.\n",
    "At the end of the loop you output an Answer.\n",
    "\n",
    "Use Thought to describe your reasoning about the travel question you have been asked.\n",
    "Use Action to run one of the actions available to you - then return PAUSE.\n",
    "Observation will be the result of running those actions.\n",
    "\n",
    "Your available actions are:\n",
    "\n",
    "get_flight_info:\n",
    "e.g. get_flight_info: New York to London\n",
    "Returns flight duration and typical cost between two cities\n",
    "\n",
    "get_weather:\n",
    "e.g. get_weather: Paris\n",
    "Returns current weather information for a destination\n",
    "\n",
    "calculate:\n",
    "e.g. calculate: 450 * 2 + 100\n",
    "Runs a calculation and returns the number - useful for travel budgets, costs, etc.\n",
    "\n",
    "Example session:\n",
    "\n",
    "Question: What's the weather like in Paris and how much would a flight from New York cost?\n",
    "Thought: I need to get weather information for Paris and flight information from New York to Paris\n",
    "Action: get_weather: Paris\n",
    "PAUSE\n",
    "\n",
    "You will be called again with this:\n",
    "\n",
    "Observation: Currently 18°C, partly cloudy. Good weather for sightseeing!\n",
    "\n",
    "Then continue:\n",
    "Thought: Now I need to get flight information from New York to Paris\n",
    "Action: get_flight_info: New York to Paris\n",
    "PAUSE\n",
    "\n",
    "You will be called again with this:\n",
    "\n",
    "Observation: Flight duration: 8 hours, Typical cost: $700-900\n",
    "\n",
    "You then output:\n",
    "\n",
    "Answer: The weather in Paris is currently 18°C and partly cloudy - great for sightseeing! A flight from New York to Paris typically takes 8 hours and costs between $700-900.\n",
    "\"\"\".strip()"
   ]
  },
  {
   "cell_type": "code",
   "execution_count": 7,
   "id": "bf4dcb93-6298-4cfd-b3ce-61dfac7fb35f",
   "metadata": {
    "height": 302
   },
   "outputs": [],
   "source": [
    "def calculate(what):\n",
    "    return eval(what)\n",
    "\n",
    "def get_flight_info(route):\n",
    "    \"\"\"Get flight information between two cities\"\"\"\n",
    "    route = route.strip()\n",
    "    \n",
    "    # Simple mock data for common routes\n",
    "    flight_data = {\n",
    "        \"New York to London\": \"Flight duration: 7 hours, Typical cost: $600-800\",\n",
    "        \"London to Paris\": \"Flight duration: 1.5 hours, Typical cost: $150-250\", \n",
    "        \"New York to Paris\": \"Flight duration: 8 hours, Typical cost: $700-900\",\n",
    "        \"Tokyo to London\": \"Flight duration: 12 hours, Typical cost: $800-1200\",\n",
    "        \"Los Angeles to Tokyo\": \"Flight duration: 11 hours, Typical cost: $600-1000\",\n",
    "        \"London to New York\": \"Flight duration: 8 hours, Typical cost: $600-800\",\n",
    "        \"Paris to London\": \"Flight duration: 1.5 hours, Typical cost: $150-250\",\n",
    "        \"Paris to New York\": \"Flight duration: 8.5 hours, Typical cost: $700-900\"\n",
    "    }\n",
    "    \n",
    "    return flight_data.get(route, f\"Flight information not available for {route}. Typical international flights cost $500-1000 and take 6-12 hours.\")\n",
    "\n",
    "def get_weather(city):\n",
    "    \"\"\"Get weather information for a destination\"\"\"\n",
    "    city = city.strip()\n",
    "    \n",
    "    # Simple mock weather data\n",
    "    weather_data = {\n",
    "        \"Paris\": \"Currently 18°C, partly cloudy. Good weather for sightseeing!\",\n",
    "        \"London\": \"Currently 15°C, light rain. Pack an umbrella!\",\n",
    "        \"New York\": \"Currently 22°C, sunny. Perfect weather for walking around the city!\",\n",
    "        \"Tokyo\": \"Currently 25°C, humid. Light clothing recommended.\",\n",
    "        \"Los Angeles\": \"Currently 28°C, sunny. Great beach weather!\",\n",
    "        \"Rome\": \"Currently 24°C, sunny. Perfect for exploring ancient sites!\",\n",
    "        \"Barcelona\": \"Currently 26°C, clear skies. Ideal for beach and city tours!\"\n",
    "    }\n",
    "    \n",
    "    return weather_data.get(city, f\"Weather information not available for {city}. Check local weather services for current conditions.\")\n",
    "\n",
    "known_actions = {\n",
    "    \"calculate\": calculate,\n",
    "    \"get_flight_info\": get_flight_info,\n",
    "    \"get_weather\": get_weather\n",
    "}"
   ]
  },
  {
   "cell_type": "code",
   "execution_count": 8,
   "id": "932883a4-c722-42bb-aec0-b4f41c5c81a4",
   "metadata": {
    "height": 30
   },
   "outputs": [],
   "source": [
    "abot = Agent(prompt)"
   ]
  },
  {
   "cell_type": "code",
   "execution_count": 9,
   "id": "ff362f49-dcf1-4ea1-a86c-e516e9ab897d",
   "metadata": {
    "height": 47
   },
   "outputs": [
    {
     "name": "stdout",
     "output_type": "stream",
     "text": [
      "Thought: I need to get the current weather information for Paris.\n",
      "Action: get_weather: Paris\n",
      "PAUSE\n"
     ]
    }
   ],
   "source": [
    "result = abot(\"What's the weather like in Paris?\")\n",
    "print(result)"
   ]
  },
  {
   "cell_type": "code",
   "execution_count": 10,
   "id": "a7e15a20-83d7-434c-8551-bce8dcc32be0",
   "metadata": {
    "height": 30
   },
   "outputs": [],
   "source": [
    "result = get_weather(\"Paris\")"
   ]
  },
  {
   "cell_type": "code",
   "execution_count": 11,
   "id": "54ab2c74-f32e-490c-a85d-932d11444210",
   "metadata": {
    "height": 30
   },
   "outputs": [
    {
     "data": {
      "text/plain": [
       "'Currently 18°C, partly cloudy. Good weather for sightseeing!'"
      ]
     },
     "execution_count": 11,
     "metadata": {},
     "output_type": "execute_result"
    }
   ],
   "source": [
    "result"
   ]
  },
  {
   "cell_type": "code",
   "execution_count": 12,
   "id": "a833d3ce-bd31-4319-811d-decff226b970",
   "metadata": {
    "height": 30
   },
   "outputs": [],
   "source": [
    "next_prompt = \"Observation: {}\".format(result)"
   ]
  },
  {
   "cell_type": "code",
   "execution_count": 13,
   "id": "76e93cce-6eab-4c7c-ac64-e9993fdb30d6",
   "metadata": {
    "height": 30
   },
   "outputs": [
    {
     "data": {
      "text/plain": [
       "'Answer: The weather in Paris is currently 18°C and partly cloudy, which is good weather for sightseeing!'"
      ]
     },
     "execution_count": 13,
     "metadata": {},
     "output_type": "execute_result"
    }
   ],
   "source": [
    "abot(next_prompt)"
   ]
  },
  {
   "cell_type": "code",
   "execution_count": 14,
   "id": "fd2d0990-a932-423f-9ff3-5cada58c5f32",
   "metadata": {
    "height": 30
   },
   "outputs": [
    {
     "data": {
      "text/plain": [
       "[{'role': 'system',\n",
       "  'content': \"You are a helpful travel assistant that runs in a loop of Thought, Action, PAUSE, Observation.\\nAt the end of the loop you output an Answer.\\n\\nUse Thought to describe your reasoning about the travel question you have been asked.\\nUse Action to run one of the actions available to you - then return PAUSE.\\nObservation will be the result of running those actions.\\n\\nYour available actions are:\\n\\nget_flight_info:\\ne.g. get_flight_info: New York to London\\nReturns flight duration and typical cost between two cities\\n\\nget_weather:\\ne.g. get_weather: Paris\\nReturns current weather information for a destination\\n\\ncalculate:\\ne.g. calculate: 450 * 2 + 100\\nRuns a calculation and returns the number - useful for travel budgets, costs, etc.\\n\\nExample session:\\n\\nQuestion: What's the weather like in Paris and how much would a flight from New York cost?\\nThought: I need to get weather information for Paris and flight information from New York to Paris\\nAction: get_weather: Paris\\nPAUSE\\n\\nYou will be called again with this:\\n\\nObservation: Currently 18°C, partly cloudy. Good weather for sightseeing!\\n\\nThen continue:\\nThought: Now I need to get flight information from New York to Paris\\nAction: get_flight_info: New York to Paris\\nPAUSE\\n\\nYou will be called again with this:\\n\\nObservation: Flight duration: 8 hours, Typical cost: $700-900\\n\\nYou then output:\\n\\nAnswer: The weather in Paris is currently 18°C and partly cloudy - great for sightseeing! A flight from New York to Paris typically takes 8 hours and costs between $700-900.\"},\n",
       " {'role': 'user', 'content': \"What's the weather like in Paris?\"},\n",
       " {'role': 'assistant',\n",
       "  'content': 'Thought: I need to get the current weather information for Paris.\\nAction: get_weather: Paris\\nPAUSE'},\n",
       " {'role': 'user',\n",
       "  'content': 'Observation: Currently 18°C, partly cloudy. Good weather for sightseeing!'},\n",
       " {'role': 'assistant',\n",
       "  'content': 'Answer: The weather in Paris is currently 18°C and partly cloudy, which is good weather for sightseeing!'}]"
      ]
     },
     "execution_count": 14,
     "metadata": {},
     "output_type": "execute_result"
    }
   ],
   "source": [
    "abot.messages"
   ]
  },
  {
   "cell_type": "code",
   "execution_count": 15,
   "id": "27cde654-64e2-48bc-80a9-0ed668ccb7dc",
   "metadata": {
    "height": 30
   },
   "outputs": [],
   "source": [
    "abot = Agent(prompt)"
   ]
  },
  {
   "cell_type": "code",
   "execution_count": 16,
   "id": "4871f644-b131-4065-b7ce-b82c20a41f11",
   "metadata": {
    "height": 64
   },
   "outputs": [
    {
     "data": {
      "text/plain": [
       "'Thought: I need to get flight information from New York to London and also check the current weather in London. After that, I will calculate the total cost for 2 people if the flight costs $700 each.\\nAction: get_flight_info: New York to London\\nPAUSE'"
      ]
     },
     "execution_count": 16,
     "metadata": {},
     "output_type": "execute_result"
    }
   ],
   "source": [
    "question = \"\"\"I'm planning a trip from New York to London. What's the flight cost and duration, \\\n",
    "and what's the weather like in London? If the flight costs $700, what would be the total cost for 2 people?\"\"\"\n",
    "abot(question)"
   ]
  },
  {
   "cell_type": "code",
   "execution_count": 17,
   "id": "8c3d8070-3f36-4cf0-a677-508e54359c8f",
   "metadata": {
    "height": 47
   },
   "outputs": [
    {
     "name": "stdout",
     "output_type": "stream",
     "text": [
      "Observation: Flight duration: 7 hours, Typical cost: $600-800\n"
     ]
    }
   ],
   "source": [
    "next_prompt = \"Observation: {}\".format(get_flight_info(\"New York to London\"))\n",
    "print(next_prompt)"
   ]
  },
  {
   "cell_type": "code",
   "execution_count": 18,
   "id": "98f3be1d-cc4c-41fa-9863-3e386e88e305",
   "metadata": {
    "height": 30
   },
   "outputs": [
    {
     "data": {
      "text/plain": [
       "'Thought: Now I need to get the current weather information for London.\\nAction: get_weather: London\\nPAUSE'"
      ]
     },
     "execution_count": 18,
     "metadata": {},
     "output_type": "execute_result"
    }
   ],
   "source": [
    "abot(next_prompt)"
   ]
  },
  {
   "cell_type": "code",
   "execution_count": 19,
   "id": "0ad8a6cc-65d4-4ce7-87aa-4e67d7c23d7b",
   "metadata": {
    "height": 47
   },
   "outputs": [
    {
     "name": "stdout",
     "output_type": "stream",
     "text": [
      "Observation: Currently 15°C, light rain. Pack an umbrella!\n"
     ]
    }
   ],
   "source": [
    "next_prompt = \"Observation: {}\".format(get_weather(\"London\"))\n",
    "print(next_prompt)"
   ]
  },
  {
   "cell_type": "code",
   "execution_count": 20,
   "id": "592b5e62-a203-433c-92a0-3783f490cde1",
   "metadata": {
    "height": 30
   },
   "outputs": [
    {
     "data": {
      "text/plain": [
       "'Thought: I have the flight information and the weather details. Now, I need to calculate the total cost for 2 people if each flight costs $700.\\nAction: calculate: 700 * 2\\nPAUSE'"
      ]
     },
     "execution_count": 20,
     "metadata": {},
     "output_type": "execute_result"
    }
   ],
   "source": [
    "abot(next_prompt)"
   ]
  },
  {
   "cell_type": "code",
   "execution_count": 21,
   "id": "14fa923c-7e4f-42d1-965f-0f8ccd50fbd7",
   "metadata": {
    "height": 47
   },
   "outputs": [
    {
     "name": "stdout",
     "output_type": "stream",
     "text": [
      "Observation: 1400\n"
     ]
    }
   ],
   "source": [
    "next_prompt = \"Observation: {}\".format(eval(\"700 * 2\"))\n",
    "print(next_prompt)"
   ]
  },
  {
   "cell_type": "code",
   "execution_count": 22,
   "id": "570c6245-2837-4ac5-983b-95f61f3ac10d",
   "metadata": {
    "height": 30
   },
   "outputs": [
    {
     "data": {
      "text/plain": [
       "\"Answer: The flight from New York to London typically takes 7 hours and costs between $600-800. The current weather in London is 15°C with light rain, so it's advisable to pack an umbrella. If the flight costs $700 per person, the total cost for 2 people would be $1,400.\""
      ]
     },
     "execution_count": 22,
     "metadata": {},
     "output_type": "execute_result"
    }
   ],
   "source": [
    "abot(next_prompt)"
   ]
  },
  {
   "cell_type": "markdown",
   "id": "6b46f2ac-f717-4ab9-b548-f34b74071d76",
   "metadata": {},
   "source": [
    "### Add loop "
   ]
  },
  {
   "cell_type": "code",
   "execution_count": 23,
   "id": "6b910915-b087-4d35-afff-0ec30a5852f1",
   "metadata": {
    "height": 30
   },
   "outputs": [],
   "source": [
    "action_re = re.compile('^Action: (\\w+): (.*)$')   # python regular expression to selection action"
   ]
  },
  {
   "cell_type": "code",
   "execution_count": 24,
   "id": "c4feb6cc-5129-4a99-bb45-851bc07b5709",
   "metadata": {
    "height": 421
   },
   "outputs": [],
   "source": [
    "def query(question, max_turns=5):\n",
    "    i = 0\n",
    "    bot = Agent(prompt)\n",
    "    next_prompt = question\n",
    "    while i < max_turns:\n",
    "        i += 1\n",
    "        result = bot(next_prompt)\n",
    "        print(result)\n",
    "        actions = [\n",
    "            action_re.match(a) \n",
    "            for a in result.split('\\n') \n",
    "            if action_re.match(a)\n",
    "        ]\n",
    "        if actions:\n",
    "            # There is an action to run\n",
    "            action, action_input = actions[0].groups()\n",
    "            if action not in known_actions:\n",
    "                raise Exception(\"Unknown action: {}: {}\".format(action, action_input))\n",
    "            print(\" -- running {} {}\".format(action, action_input))\n",
    "            observation = known_actions[action](action_input)\n",
    "            print(\"Observation:\", observation)\n",
    "            next_prompt = \"Observation: {}\".format(observation)\n",
    "        else:\n",
    "            return"
   ]
  },
  {
   "cell_type": "code",
   "execution_count": 25,
   "id": "e85a02b4-96cc-4b01-8792-397a774eb499",
   "metadata": {
    "height": 64
   },
   "outputs": [
    {
     "name": "stdout",
     "output_type": "stream",
     "text": [
      "Thought: I need to get the current weather information for Paris.\n",
      "Action: get_weather: Paris\n",
      "PAUSE\n",
      " -- running get_weather Paris\n",
      "Observation: Currently 18°C, partly cloudy. Good weather for sightseeing!\n",
      "Answer: The weather in Paris is currently 18°C and partly cloudy, which is good weather for sightseeing!\n"
     ]
    }
   ],
   "source": [
    "question = \"\"\"What's the weather like in Paris?\"\"\"\n",
    "query(question)"
   ]
  },
  {
   "cell_type": "code",
   "execution_count": 26,
   "id": "ae8b86a6-5e20-4252-b1d8-009b8318345a",
   "metadata": {
    "height": 30
   },
   "outputs": [
    {
     "name": "stdout",
     "output_type": "stream",
     "text": [
      "Thought: I need to get flight information from New York to London and the current weather in London. Then, I will calculate the total cost for 2 travelers if each flight costs $750.\n",
      "Action: get_flight_info: New York to London\n",
      "PAUSE\n",
      " -- running get_flight_info New York to London\n",
      "Observation: Flight duration: 7 hours, Typical cost: $600-800\n",
      "Thought: Now I need to get the current weather information for London.\n",
      "Action: get_weather: London\n",
      "PAUSE\n",
      " -- running get_weather London\n",
      "Observation: Currently 15°C, light rain. Pack an umbrella!\n",
      "Thought: I have the flight duration, cost, and weather information. Now, I need to calculate the total cost for 2 travelers if each flight costs $750.\n",
      "Action: calculate: 750 * 2\n",
      "PAUSE\n",
      " -- running calculate 750 * 2\n",
      "Observation: 1500\n",
      "Answer: The flight from New York to London typically takes 7 hours and costs between $600-800. The current weather in London is 15°C with light rain, so it's advisable to pack an umbrella. If each flight costs $750, the total cost for 2 travelers would be $1,500.\n"
     ]
    }
   ],
   "source": [
    "question = \"\"\"I want to travel from New York to London. Can you tell me the flight duration and cost, \\\n",
    "plus what's the weather like in London? If flights cost $750 each, what's the total for 2 travelers?\"\"\"\n",
    "query(question)"
   ]
  },
  {
   "cell_type": "code",
   "execution_count": null,
   "id": "af925917-b746-48c9-ac74-62fefbe5246c",
   "metadata": {
    "height": 30
   },
   "outputs": [],
   "source": []
  }
 ],
 "metadata": {
  "kernelspec": {
   "display_name": "venv",
   "language": "python",
   "name": "python3"
  },
  "language_info": {
   "codemirror_mode": {
    "name": "ipython",
    "version": 3
   },
   "file_extension": ".py",
   "mimetype": "text/x-python",
   "name": "python",
   "nbconvert_exporter": "python",
   "pygments_lexer": "ipython3",
   "version": "3.9.6"
  }
 },
 "nbformat": 4,
 "nbformat_minor": 5
}
